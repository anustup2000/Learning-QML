{
 "cells": [
  {
   "cell_type": "markdown",
   "metadata": {},
   "source": [
    "# Data set\n",
    "\n",
    "We generate our first data set using numpy random generator."
   ]
  },
  {
   "cell_type": "code",
   "execution_count": null,
   "metadata": {},
   "outputs": [],
   "source": [
    "import numpy as np"
   ]
  },
  {
   "cell_type": "code",
   "execution_count": null,
   "metadata": {},
   "outputs": [],
   "source": [
    "n_samples = 60\n",
    "\n",
    "np.random.seed(0)\n",
    "X = 1*np.random.random((n_samples,2))\n",
    "y = (X[:,1] > 0.5).astype(int)\n",
    "linearly_separable = (X, y)"
   ]
  },
  {
   "cell_type": "code",
   "execution_count": null,
   "metadata": {},
   "outputs": [],
   "source": [
    "data_xs, data_ys = linearly_separable"
   ]
  },
  {
   "cell_type": "markdown",
   "metadata": {},
   "source": [
    "Data visualization tools using `plotly` are implemented in `activity_1_figure_utils`. We will just use them without explaining how they work. Feel free to ask questions about those during the workshop if you are interested."
   ]
  },
  {
   "cell_type": "code",
   "execution_count": null,
   "metadata": {},
   "outputs": [],
   "source": [
    "from activity_1_figure_utils import data_figure"
   ]
  },
  {
   "cell_type": "code",
   "execution_count": null,
   "metadata": {},
   "outputs": [],
   "source": [
    "fig = data_figure(data_xs,data_ys)\n",
    "fig.show()"
   ]
  },
  {
   "cell_type": "markdown",
   "metadata": {},
   "source": [
    "# Data embedding quantum circuit\n",
    "\n",
    "Let's use `qiskit` to construct our first data embedding circuit."
   ]
  },
  {
   "cell_type": "markdown",
   "metadata": {},
   "source": [
    "![data embedding circuit](notebook_ressources/Data_circuit.png \"Data embedding circuit\")"
   ]
  },
  {
   "cell_type": "code",
   "execution_count": null,
   "metadata": {},
   "outputs": [],
   "source": [
    "from qiskit import QuantumCircuit\n",
    "from qiskit.circuit import ParameterVector, Parameter"
   ]
  },
  {
   "cell_type": "code",
   "execution_count": null,
   "metadata": {},
   "outputs": [],
   "source": [
    "def build_data_embedding_circuit():\n",
    "    \"\"\"Builds a plain 2D data embedding circuit\n",
    "\n",
    "    Returns:\n",
    "        QuantumCircuit: The data embedding parametrized quantum circuit\n",
    "        ParameterVector or list[Parameter] : The parameters to be used to embed the data\n",
    "    \"\"\"\n",
    "\n",
    "    data_params = ParameterVector('x', 2)\n",
    "    \n",
    "    ### Let's code here\n",
    "    data_embedding_circuit = QuantumCircuit(1)\n",
    "    \n",
    "    data_embedding_circuit.ry(data_params[0],0)\n",
    "    data_embedding_circuit.rz(data_params[1],0)\n",
    "    ###\n",
    "\n",
    "    return data_embedding_circuit, data_params"
   ]
  },
  {
   "cell_type": "code",
   "execution_count": null,
   "metadata": {},
   "outputs": [],
   "source": [
    "data_embedding_circuit, data_params = build_data_embedding_circuit()\n",
    "data_embedding_circuit.draw('mpl',scale = 2)"
   ]
  },
  {
   "cell_type": "markdown",
   "metadata": {},
   "source": [
    "Note : All methods of this notebook are already implemented in `activity_1_circuits`, `activity_1_utils`."
   ]
  },
  {
   "cell_type": "code",
   "execution_count": null,
   "metadata": {},
   "outputs": [],
   "source": [
    "from activity_1_circuits import build_data_embedding_circuit"
   ]
  },
  {
   "cell_type": "markdown",
   "metadata": {},
   "source": [
    "# Actually embedding the data\n",
    "\n",
    "Let's create a method that inputs all the data points into the data embedding circuit. This should produce a `QuantumCircuit` for each data point."
   ]
  },
  {
   "cell_type": "code",
   "execution_count": null,
   "metadata": {},
   "outputs": [],
   "source": [
    "def embed_data(parametrized_circuit,data_params,data_xs):\n",
    "    \n",
    "    data_circuits = list()\n",
    "    ### Let's code here\n",
    "    for data_x in data_xs:\n",
    "        data_x_dict = {p:v for (p,v) in zip(data_params,data_x)}\n",
    "        data_circuit = parametrized_circuit.bind_parameters(data_x_dict)\n",
    "        data_circuits.append(data_circuit)\n",
    "    \n",
    "    ###\n",
    "    \n",
    "    return data_circuits"
   ]
  },
  {
   "cell_type": "code",
   "execution_count": null,
   "metadata": {},
   "outputs": [],
   "source": [
    "data_circuits = embed_data(data_embedding_circuit,data_params,data_xs)\n",
    "data_circuits[0].draw('mpl',scale = 2)"
   ]
  },
  {
   "cell_type": "markdown",
   "metadata": {},
   "source": [
    "Where does this data embedding puts the data point on the Bloch sphere?"
   ]
  },
  {
   "cell_type": "code",
   "execution_count": null,
   "metadata": {},
   "outputs": [],
   "source": [
    "from activity_1_figure_utils import circuits_to_statevectors, bloch_sphere_statevector_figure"
   ]
  },
  {
   "cell_type": "code",
   "execution_count": null,
   "metadata": {},
   "outputs": [],
   "source": [
    "statevectors = circuits_to_statevectors(data_circuits)\n",
    "fig = bloch_sphere_statevector_figure(statevectors,data_ys)\n",
    "fig.show()"
   ]
  },
  {
   "cell_type": "markdown",
   "metadata": {},
   "source": [
    "# Rotation model quantum circuit\n",
    "\n",
    "Let's build the quantum circuit of our first model. This circuit should take care of the data embedding as well as the rotation.\n",
    "\n",
    "![rotation model circuit](notebook_ressources/Rotation_model_circuit.png \"Rotation model circuit\")"
   ]
  },
  {
   "cell_type": "code",
   "execution_count": null,
   "metadata": {},
   "outputs": [],
   "source": [
    "def build_rotation_model_circuit():\n",
    "    \"\"\"Builds the rotation model quantum circuit. \n",
    "    First embeds the data.\n",
    "    Then rotates the data.\n",
    "\n",
    "    Returns:\n",
    "        QuantumCircuit: The rotation model quantum circuit\n",
    "        ParameterVector or list[Parameter] : The parameters to be used to embed the data\n",
    "        ParameterVector or list[Parameter] : The model's parameters\n",
    "    \"\"\"\n",
    "\n",
    "    data_params = ParameterVector('x', 2)\n",
    "    rotation_params = ParameterVector('m', 2)\n",
    "\n",
    "    model_circuit = QuantumCircuit(1)\n",
    "    ### Let's code here\n",
    "    model_circuit.ry(data_params[0],0)\n",
    "    model_circuit.rz(data_params[1]+rotation_params[0],0)\n",
    "    model_circuit.ry(rotation_params[1],0)\n",
    "    ### Let's code here\n",
    "    \n",
    "    return model_circuit, data_params, rotation_params"
   ]
  },
  {
   "cell_type": "code",
   "execution_count": null,
   "metadata": {},
   "outputs": [],
   "source": [
    "classifier_circuit, data_params, model_params = build_rotation_model_circuit()\n",
    "classifier_circuit.draw('mpl',scale = 2)"
   ]
  },
  {
   "cell_type": "markdown",
   "metadata": {},
   "source": [
    "# Build the layered model\n",
    "\n",
    "Let's test our skills to build the layered model quantum circuit!\n",
    "\n",
    "![layered model circuit](notebook_ressources/Layered_model_circuit.png \"Layered model circuit\")\n",
    "\n",
    "$$f_i(x) = w_i x + \\theta_i$$"
   ]
  },
  {
   "cell_type": "code",
   "execution_count": null,
   "metadata": {},
   "outputs": [],
   "source": [
    "def build_layered_model_circuit(n_layers = 1):\n",
    "    \"\"\"Builds the layered model quantum circuit. \n",
    "    Takes care of the weighted data embedding and the rotations on many layers.\n",
    "\n",
    "    Args:\n",
    "        n_layers (int, optional): The number of layers. Defaults to 1.\n",
    "\n",
    "    Returns:\n",
    "        QuantumCircuit: The layered model quantum circuit\n",
    "        ParameterVector or list[Parameter] : The parameters to be used to embed the data\n",
    "        ParameterVector or list[Parameter] : The model's parameters (includes rotations and weights)\n",
    "    \"\"\"\n",
    "\n",
    "    data_params = ParameterVector('x', 2)\n",
    "    weights_params = ParameterVector('w', 2*n_layers)\n",
    "    rotation_params = ParameterVector('m', 2*n_layers)\n",
    "\n",
    "    model_params = list(rotation_params) + list(weights_params)\n",
    "    \n",
    "    model_circuit = QuantumCircuit(1)\n",
    "    ### Let's code here\n",
    "    model_circuit.ry(weights_params[0]*data_params[0],0)\n",
    "    for l in range(0,n_layers-1):\n",
    "        model_circuit.rz(weights_params[2*l+1] * data_params[1] + rotation_params[2*l+1],0)\n",
    "        model_circuit.ry(weights_params[2*l+2] * data_params[0] + rotation_params[2*l+2],0)\n",
    "\n",
    "    model_circuit.rz(weights_params[2*l+3] * data_params[1] + rotation_params[2*l+3],0) #2*n_layers-1\n",
    "    model_circuit.ry(rotation_params[0],0)\n",
    "    ###\n",
    "    \n",
    "    return model_circuit, data_params, model_params"
   ]
  },
  {
   "cell_type": "code",
   "execution_count": null,
   "metadata": {},
   "outputs": [],
   "source": [
    "classifier_circuit, data_params, model_params = build_layered_model_circuit(n_layers = 3)\n",
    "classifier_circuit.draw('mpl',scale = 2)"
   ]
  },
  {
   "cell_type": "markdown",
   "metadata": {},
   "source": [
    "# Prepare all the circuits with parameter values and data points\n",
    "\n",
    "We need to improve the `embed_data` method to input the model parameter values as well. We need the option to apply measurements or not for later uses."
   ]
  },
  {
   "cell_type": "code",
   "execution_count": null,
   "metadata": {},
   "outputs": [],
   "source": [
    "def prepare_all_circuits(model_circuit,data_params,model_params,data_xs,model_values,add_measurements=False):\n",
    "    \"\"\"Replace the model parameters of a parametrized QuantumCircuit with parameter values.\n",
    "    Then replace the parameters of a parametrized QuantumCircuit with data.\n",
    "    Produce a list of QuantumCircuit, one per data point.\n",
    "\n",
    "    Args:\n",
    "        model_circuit ([type]): The model circuit\n",
    "        data_params ([type]): Parameters where to input the data\n",
    "        model_params ([type]): Parameters where to input the model parameter values\n",
    "        data_xs ([type]): Data points.\n",
    "        model_values ([type]): Model parameter values\n",
    "        add_measurements (bool, optional): Add a measurement at the end of the circuit. Defaults to False.\n",
    "\n",
    "    Returns:\n",
    "        List of QuantumCircuit: One QuantumCircuit per data point.\n",
    "    \"\"\"\n",
    "\n",
    "    model_value_dict = {p:v for (p,v) in zip(model_params, model_values)}\n",
    "    classifier_circuit = model_circuit.bind_parameters(model_value_dict)\n",
    "    if add_measurements:\n",
    "        classifier_circuit.measure_all()\n",
    "        \n",
    "    all_circuits = embed_data(classifier_circuit,data_params,data_xs)\n",
    "    \n",
    "    return all_circuits"
   ]
  },
  {
   "cell_type": "code",
   "execution_count": null,
   "metadata": {},
   "outputs": [],
   "source": [
    "# classifier_circuit, data_params, model_params = build_rotation_model_circuit()\n",
    "classifier_circuit, data_params, model_params = build_layered_model_circuit(n_layers = 3)\n",
    "all_circuits = prepare_all_circuits(classifier_circuit,data_params,model_params,data_xs,[1,]*len(model_params),add_measurements=False)\n",
    "all_circuits[0].draw('mpl',scale = 2)"
   ]
  },
  {
   "cell_type": "markdown",
   "metadata": {},
   "source": [
    "# Running the circuits on simulators\n",
    "\n",
    "We now want to run these quantum circuit on different simulator."
   ]
  },
  {
   "cell_type": "code",
   "execution_count": null,
   "metadata": {},
   "outputs": [],
   "source": [
    "from qiskit import Aer\n",
    "from qiskit.utils import QuantumInstance\n",
    "\n",
    "qasm_simulator = Aer.get_backend('qasm_simulator')\n",
    "qasm_quantum_instance = QuantumInstance(qasm_simulator,shots=1000)\n",
    "\n",
    "statevector_simulator = Aer.get_backend('statevector_simulator')\n",
    "sv_quantum_instance = QuantumInstance(statevector_simulator)"
   ]
  },
  {
   "cell_type": "code",
   "execution_count": null,
   "metadata": {},
   "outputs": [],
   "source": [
    "all_circuits = prepare_all_circuits(classifier_circuit,data_params,model_params,data_xs,[1,]*len(model_params),add_measurements=True)\n",
    "all_results = qasm_quantum_instance.execute(all_circuits)\n",
    "print(all_results.get_counts())"
   ]
  },
  {
   "cell_type": "code",
   "execution_count": null,
   "metadata": {},
   "outputs": [],
   "source": [
    "all_circuits = prepare_all_circuits(classifier_circuit,data_params,model_params,data_xs,[1,]*len(model_params),add_measurements=False)\n",
    "all_results = sv_quantum_instance.execute(all_circuits)\n",
    "print(all_results.get_statevector(0))"
   ]
  },
  {
   "cell_type": "markdown",
   "metadata": {},
   "source": [
    "We now need to convert the results (counts or statevectors) into expectation values of the Z operator."
   ]
  },
  {
   "cell_type": "code",
   "execution_count": null,
   "metadata": {},
   "outputs": [],
   "source": [
    "def all_results_to_expectation_values(all_results):\n",
    "    \"\"\"Convert results from running a list 1 qubit QuantumCircuit into Z expectation values.\n",
    "    Select between statevector and counts method based on the backend used\n",
    "\n",
    "    Args:\n",
    "        all_results : Results from runnin all the circuit\n",
    "\n",
    "    Returns:\n",
    "        np.array: All the Z expectation values.\n",
    "    \"\"\"\n",
    "\n",
    "    if all_results.backend_name == 'statevector_simulator':\n",
    "        return all_statevectors_to_expectation_values(all_results)\n",
    "    else:\n",
    "        return all_counts_to_expectation_values(all_results.get_counts())\n",
    "\n",
    "\n",
    "def all_counts_to_expectation_values(all_counts):\n",
    "    \"\"\"Convert a list of 1 qubit QuantumCircuit counts into Z expectation values.\n",
    "    Results from the qasm_simulator or an actual backend.\n",
    "\n",
    "    Args:\n",
    "        all_counts (list of dict): The counts resulting of running all the QuantumCircuit. One per data point.\n",
    "\n",
    "    Returns:\n",
    "        np.array: All the Z expectation values.\n",
    "    \"\"\"\n",
    "\n",
    "    n_data = len(all_counts)\n",
    "    expectation_values = np.zeros((n_data,))\n",
    "    eigenvalues = {'0': 1, '1': -1}\n",
    "    for i, counts in enumerate(all_counts):\n",
    "        ### Let's code here\n",
    "        tmp1, tmp2 = 0, 0\n",
    "        for key, value in counts.items():\n",
    "            tmp1 += value * eigenvalues[key]\n",
    "            tmp2 += value\n",
    "        expectation_values[i] = tmp1/tmp2\n",
    "        ###\n",
    "\n",
    "    return expectation_values\n",
    "\n",
    "def all_statevectors_to_expectation_values(all_results):\n",
    "    \"\"\"Convert the statevectors resulting of the simulation of a list of 1 qubit QuantumCircuit into Z expectation values.\n",
    "    Results from the statevector_simulator.\n",
    "\n",
    "    Args:\n",
    "        all_counts (list of dict): The result of running all the QuantumCircuit.\n",
    "\n",
    "    Returns:\n",
    "        np.array: All the Z expectation values.\n",
    "    \"\"\"\n",
    "\n",
    "    n_circuits = len(all_results.results)\n",
    "    all_statevectors = np.zeros((n_circuits,2),dtype = complex)\n",
    "    for i in range(n_circuits):\n",
    "        all_statevectors[i,:] = all_results.get_statevector(i)\n",
    "\n",
    "    pauli_z_eig = np.array([1.,-1.])\n",
    "    expectation_values = np.real(np.einsum('ik,ik,k->i',all_statevectors,np.conjugate(all_statevectors),pauli_z_eig))\n",
    "\n",
    "    return expectation_values"
   ]
  },
  {
   "cell_type": "code",
   "execution_count": null,
   "metadata": {},
   "outputs": [],
   "source": [
    "expected_values = all_results_to_expectation_values(all_results)\n",
    "print(expected_values)"
   ]
  },
  {
   "cell_type": "markdown",
   "metadata": {},
   "source": [
    "# Evaluation of the cost function\n",
    "\n",
    "The expectation values and the target values can be used to quantify the cost function."
   ]
  },
  {
   "cell_type": "code",
   "execution_count": null,
   "metadata": {},
   "outputs": [],
   "source": [
    "def eval_cost_fct_quadratic(expectation_values,target_values):\n",
    "    \"\"\"Convert expectation values into cost using a quadratic distance.\n",
    "\n",
    "    Args:\n",
    "        expectation_values (np.array): Values between -1 and 1.\n",
    "        target_values (np.array): Values -1 or 1\n",
    "\n",
    "    Returns:\n",
    "        [np.array]: The computed cost of each data point.\n",
    "    \"\"\"\n",
    "    \n",
    "    product_zt = expectation_values*target_values\n",
    "    all_costs = ((1 - product_zt)/2)**2\n",
    "    return all_costs"
   ]
  },
  {
   "cell_type": "code",
   "execution_count": null,
   "metadata": {},
   "outputs": [],
   "source": [
    "target_values = 1 - 2*data_ys\n",
    "all_costs = eval_cost_fct_quadratic(expected_values,target_values)\n",
    "print(all_costs)"
   ]
  },
  {
   "cell_type": "markdown",
   "metadata": {},
   "source": [
    "# Train the model\n",
    "\n",
    "We now use an optimizer to find the best model parameter values which minimize the total cost function. Hopefully this will allow us to have a good classifier."
   ]
  },
  {
   "cell_type": "code",
   "execution_count": null,
   "metadata": {},
   "outputs": [],
   "source": [
    "def train_classifier(optimizer,eval_cost_fct,quantum_instance,model_circuit,data_params,model_params,data_xs,data_ys,initial_point):\n",
    "    \"\"\"Train a classification model quantum circuit.\n",
    "\n",
    "    Args:\n",
    "        optimizer (Qiskit Optimizer): The optimizer used to minimize the cost function\n",
    "        eval_cost_fct (function): Computes the cost of data points given expectation values and target values\n",
    "        quantum_instance (Qiskit QuantumInstance): On which to run the QuantumCircuits.\n",
    "        model_circuit (QuantumCircuit): The parametrized QuantumCircuit model.\n",
    "        data_params ([type]): Parameters where to input the data\n",
    "        model_params ([type]): Parameters where to input the model parameter values\n",
    "        data_xs ([type]): Input data points\n",
    "        data_ys ([type]): Class data points (0 or 1)\n",
    "        initial_point ([type]): Initial set of parameters for the model\n",
    "\n",
    "    Returns:\n",
    "        model_values [list]: Optimal parameter values found by the optimizer\n",
    "        loss [float]: Final cost value\n",
    "        nfev [int]: Number of iteration done by the optimizer\n",
    "    \"\"\"\n",
    "\n",
    "    target_values = 1 - 2*data_ys\n",
    "\n",
    "    add_measurements = quantum_instance.backend_name != 'statevector_simulator'\n",
    "    \n",
    "    def cost_function(model_values):\n",
    "\n",
    "        all_circuits = prepare_all_circuits(model_circuit,data_params,model_params,data_xs,model_values,add_measurements)\n",
    "        all_results = quantum_instance.execute(all_circuits)\n",
    "        expectation_values = all_results_to_expectation_values(all_results)\n",
    "        all_costs = eval_cost_fct(expectation_values,target_values)\n",
    "        return np.sum(all_costs)/len(all_costs)\n",
    "    \n",
    "    model_values, loss, nfev = optimizer.optimize(len(model_params), cost_function, initial_point=initial_point)\n",
    "\n",
    "    return model_values, loss, nfev"
   ]
  },
  {
   "cell_type": "code",
   "execution_count": null,
   "metadata": {},
   "outputs": [],
   "source": [
    "from qiskit.algorithms.optimizers import SPSA, COBYLA, SLSQP\n",
    "from activity_1_utils import spsa_optimizer_callback\n",
    "from activity_1_figure_utils import history_figure\n",
    "from activity_1_circuits import build_rotation_model_circuit, build_linear_model_circuit, build_layered_model_circuit\n",
    "import time"
   ]
  },
  {
   "cell_type": "markdown",
   "metadata": {},
   "source": [
    "We can choose the model we want to use."
   ]
  },
  {
   "cell_type": "code",
   "execution_count": null,
   "metadata": {},
   "outputs": [],
   "source": [
    "# model = 'rotation'\n",
    "model = 'linear'\n",
    "# model = 'layered'\n",
    "if model == 'rotation':\n",
    "    classifier_circuit, data_params, model_params = build_rotation_model_circuit()\n",
    "    initial_point = [0,0]\n",
    "elif model == 'linear':\n",
    "    classifier_circuit, data_params, model_params = build_linear_model_circuit()\n",
    "    initial_point = [0,0,1,1]\n",
    "elif model == 'layered':\n",
    "    n_layers = 4\n",
    "    classifier_circuit, data_params, model_params = build_layered_model_circuit(n_layers)\n",
    "    initial_point = [0,0] * n_layers + [1,1] * n_layers"
   ]
  },
  {
   "cell_type": "markdown",
   "metadata": {},
   "source": [
    "An now we train it!"
   ]
  },
  {
   "cell_type": "code",
   "execution_count": null,
   "metadata": {},
   "outputs": [],
   "source": [
    "t0 = time.time()\n",
    "\n",
    "train_history = []\n",
    "optimizer = SPSA(maxiter=50, callback=lambda n, p, v, ss, sa: spsa_optimizer_callback(n, p, v, ss, sa, train_history))\n",
    "\n",
    "model_values, loss, nfev = train_classifier(\n",
    "    optimizer,eval_cost_fct_quadratic,sv_quantum_instance,\n",
    "    classifier_circuit,data_params,model_params,data_xs,data_ys,initial_point\n",
    "    )\n",
    "\n",
    "fig = history_figure(train_history)\n",
    "fig.show()\n",
    "print(model_values)\n",
    "print(f'{time.time() - t0:.2f} sec')"
   ]
  },
  {
   "cell_type": "code",
   "execution_count": null,
   "metadata": {},
   "outputs": [],
   "source": [
    "all_circuits = prepare_all_circuits(classifier_circuit,data_params,model_params,data_xs,model_values,add_measurements=False)\n",
    "statevectors = circuits_to_statevectors(all_circuits)\n",
    "fig = bloch_sphere_statevector_figure(statevectors,data_ys)\n",
    "fig.show()"
   ]
  },
  {
   "cell_type": "markdown",
   "metadata": {},
   "source": [
    "# Using the model to classify\n",
    "\n",
    "Now that we have good model parameter values, let's use them to classify."
   ]
  },
  {
   "cell_type": "code",
   "execution_count": null,
   "metadata": {},
   "outputs": [],
   "source": [
    "def all_results_to_classifications(all_results):\n",
    "    \"\"\"Convert result into class\n",
    "\n",
    "    Args:\n",
    "        all_results ([type]): Results from running QuantumCircuits\n",
    "\n",
    "    Returns:\n",
    "        np.array: Prediction class (0 or 1)\n",
    "    \"\"\"\n",
    "    \n",
    "    expectation_values = all_results_to_expectation_values(all_results)\n",
    "    classifications = np.choose(expectation_values>0,[1,0])\n",
    "\n",
    "    return classifications\n",
    "\n",
    "\n",
    "def classify(quantum_instance,model_circuit,model_params,model_values,data_params,data_xs):\n",
    "    \"\"\"Classify data point given a model, model values and a backend.\n",
    "\n",
    "    Args:\n",
    "        quantum_instance (Qiskit QuantumInstance): On which to run the QuantumCircuits.\n",
    "        model_circuit (QuantumCircuit): The parametrized QuantumCircuit model.\n",
    "        model_params ([type]): Parameters where to input the model parameter values\n",
    "        model_values ([type]): Parameter values to be used into the model\n",
    "        data_params ([type]): Parameters where to input the data\n",
    "        data_xs ([type]): Input data points\n",
    "\n",
    "    Returns:\n",
    "        np.array: Prediction class (0 or 1)\n",
    "    \"\"\"\n",
    "\n",
    "    add_measurements = quantum_instance.backend_name != 'statevector_simulator'\n",
    "\n",
    "    all_circuits = prepare_all_circuits(model_circuit,data_params,model_params,data_xs,model_values,add_measurements)\n",
    "    all_results = quantum_instance.execute(all_circuits)\n",
    "    classifications = all_results_to_classifications(all_results)\n",
    "\n",
    "    return classifications"
   ]
  },
  {
   "cell_type": "code",
   "execution_count": null,
   "metadata": {},
   "outputs": [],
   "source": [
    "from activity_1_figure_utils import classification_figure"
   ]
  },
  {
   "cell_type": "code",
   "execution_count": null,
   "metadata": {},
   "outputs": [],
   "source": [
    "predictions_ys = classify(sv_quantum_instance,classifier_circuit,model_params,model_values,data_params,data_xs)\n",
    "fig = classification_figure(data_xs,data_ys,predictions_ys)\n",
    "fig.show()"
   ]
  },
  {
   "cell_type": "markdown",
   "metadata": {},
   "source": [
    "# Running on an actual quantum computer\n",
    "\n",
    "Let's give an example on how to run QuantumCircuit on actual quantum computer!"
   ]
  },
  {
   "cell_type": "code",
   "execution_count": null,
   "metadata": {},
   "outputs": [],
   "source": [
    "from qiskit import IBMQ\n",
    "from qiskit.visualization import plot_error_map"
   ]
  },
  {
   "cell_type": "code",
   "execution_count": null,
   "metadata": {},
   "outputs": [],
   "source": [
    "IBMQ.load_account()\n",
    "provider = IBMQ.get_provider(hub='ibm-q-education',group='qscitech-quantum',project='qc-bc-workshop')"
   ]
  },
  {
   "cell_type": "code",
   "execution_count": null,
   "metadata": {},
   "outputs": [],
   "source": [
    "ibmq_jakarta = provider.get_backend('ibmq_jakarta')\n",
    "plot_error_map(ibmq_jakarta)"
   ]
  },
  {
   "cell_type": "code",
   "execution_count": null,
   "metadata": {},
   "outputs": [],
   "source": [
    "ibmq_quantum_instance = QuantumInstance(ibmq_jakarta,shots=8192,initial_layout=[4,])"
   ]
  },
  {
   "cell_type": "code",
   "execution_count": null,
   "metadata": {},
   "outputs": [],
   "source": [
    "predictions_ys = classify(ibmq_quantum_instance,classifier_circuit,model_params,model_values,data_params,data_xs)\n",
    "fig = classification_figure(data_xs,data_ys,predictions_ys)\n",
    "fig.show()"
   ]
  },
  {
   "cell_type": "markdown",
   "metadata": {},
   "source": [
    "# Notes\n",
    "Created by Maxime Dion <maxime.dion@usherbrooke.ca>"
   ]
  },
  {
   "cell_type": "markdown",
   "metadata": {},
   "source": []
  }
 ],
 "metadata": {
  "interpreter": {
   "hash": "fbe0312ccdb88cbe18e716ecd89ec9f821ccb075e7b04b51f57345863fd1f522"
  },
  "kernelspec": {
   "display_name": "Python 3.9.5 64-bit ('qiskit': conda)",
   "language": "python",
   "name": "python3"
  },
  "language_info": {
   "codemirror_mode": {
    "name": "ipython",
    "version": 3
   },
   "file_extension": ".py",
   "mimetype": "text/x-python",
   "name": "python",
   "nbconvert_exporter": "python",
   "pygments_lexer": "ipython3",
   "version": "3.9.5"
  },
  "orig_nbformat": 4
 },
 "nbformat": 4,
 "nbformat_minor": 2
}
